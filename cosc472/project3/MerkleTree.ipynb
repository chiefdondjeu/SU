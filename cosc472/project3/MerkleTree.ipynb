{
 "cells": [
  {
   "cell_type": "code",
   "execution_count": 9,
   "id": "0eb45a3d-5f40-48a8-b689-fd187e7562ad",
   "metadata": {},
   "outputs": [],
   "source": [
    "import glob\n",
    "import networkx as nx\n",
    "import matplotlib.pyplot as plt\n",
    "import requests\n",
    "import base64\n",
    "\n",
    "# %matplotlib widget"
   ]
  },
  {
   "cell_type": "code",
   "execution_count": 10,
   "id": "3f11a463",
   "metadata": {},
   "outputs": [],
   "source": [
    "FILE_COUNT = 6"
   ]
  },
  {
   "cell_type": "markdown",
   "id": "cd48a3f2",
   "metadata": {},
   "source": [
    "### Merkle Tree"
   ]
  },
  {
   "cell_type": "code",
   "execution_count": 11,
   "id": "84e32ac8-9625-4dba-9879-17f5f60ba5e6",
   "metadata": {},
   "outputs": [],
   "source": [
    "class MerkleTree:\n",
    "    def __init__(self, value):\n",
    "        self.left = None\n",
    "        self.right = None\n",
    "        self.value = value\n",
    "        self.hash_value = TTH(value)\n",
    "\n",
    "    def print_tree(self):\n",
    "        if self.left:\n",
    "            self.left.print_tree()\n",
    "        if self.right:\n",
    "            self.right.print_tree()\n",
    "        print(f\"{self.hash_value} \", end='')"
   ]
  },
  {
   "cell_type": "markdown",
   "id": "8c7a506a",
   "metadata": {},
   "source": [
    "### Toy Tetragraph Hash"
   ]
  },
  {
   "cell_type": "code",
   "execution_count": 12,
   "id": "b5ad074b-2d81-4c9b-8274-d34893156f80",
   "metadata": {},
   "outputs": [],
   "source": [
    "# returns the position of an alphabetic char in sequence 0 ~ 25\n",
    "def indexOf(ch):\n",
    "    if ch == '0':  # this part only used by TTH\n",
    "        return 0\n",
    "    return ord(ch)-ord('a')\n",
    "\n",
    "def compression(block, total):\n",
    "    current_total = total\n",
    "\n",
    "    # ROUND 1\n",
    "    for i in range(4):\n",
    "        sum = 0\n",
    "        for j in range(i, 16, 4):\n",
    "            sum += indexOf(block[j])\n",
    "        current_total[i] = (current_total[i] + sum) % 26\n",
    "\n",
    "    # ROUND 2\n",
    "    matrix = block[1:4] + list(block[0]) + block[6:8] + block[4:6] + list(block[-5]) \\\n",
    "        + block[8:11] + list(reversed(block[12:16]))\n",
    "\n",
    "    for i in range(4):\n",
    "        sum = 0\n",
    "        for j in range(i, 16, 4):\n",
    "            sum += indexOf(matrix[j])\n",
    "        current_total[i] = (current_total[i] + sum) % 26\n",
    "\n",
    "    return current_total\n",
    "\n",
    "def TTH(msg):\n",
    "    # remove non-alphas\n",
    "    alpha_msg = \"\"\n",
    "    for ch in msg:\n",
    "        if ch.isalpha():\n",
    "            alpha_msg += ch.lower()\n",
    "\n",
    "    # divide message into blocks of 16\n",
    "    blocks = [alpha_msg[i:i+16] for i in range(0, len(alpha_msg), 16)]\n",
    "\n",
    "    # pad with zeros\n",
    "    if len(blocks[-1]) < 16:\n",
    "        blocks[-1] = blocks[-1] + \"0\" * (16 - len(blocks[-1]))\n",
    "\n",
    "    total = [0, 0, 0, 0]\n",
    "    for b in blocks:\n",
    "        total = compression(list(b), total)\n",
    "\n",
    "    hash = \"\"\n",
    "    for el in total:\n",
    "        hash += chr(el+ord('A'))\n",
    "\n",
    "    return hash"
   ]
  },
  {
   "cell_type": "markdown",
   "id": "94e1ceb0",
   "metadata": {},
   "source": [
    "### Build Merkle Tree"
   ]
  },
  {
   "cell_type": "code",
   "execution_count": 13,
   "id": "2bc5e1bf-63d4-4cba-8e33-d9146b2985f4",
   "metadata": {},
   "outputs": [],
   "source": [
    "# location: local or server\n",
    "# G: networkx object\n",
    "def build_tree(location, G=None):\n",
    "    nodes, files = [], []\n",
    "    if location == 'l':\n",
    "        files = sorted(glob.glob('tests/local/*.txt'))\n",
    "        for file in files:\n",
    "            with open(file) as f:\n",
    "                fc = f.readlines()\n",
    "            nodes.append(MerkleTree(\"\".join(fc)))\n",
    "    else:\n",
    "        # will use github\n",
    "        for i in range(1, FILE_COUNT+1):\n",
    "            url = 'https://api.github.com/repos/chiefdondjeu/472Proj3ServerSim/contents/file{i}.txt'.format(i=i)\n",
    "            req = requests.get(url)\n",
    "            if req.status_code == requests.codes.ok:\n",
    "                fc = base64.b64decode(req.json()['content']).decode('utf-8')\n",
    "                nodes.append(MerkleTree(fc))\n",
    "            else:\n",
    "                print('file{i}.txt not found'.format(i=i))\n",
    "\n",
    "    # build actual tree\n",
    "    if G is None:\n",
    "        while len(nodes) != 1:\n",
    "            parents = []\n",
    "            for i in range(0, len(nodes), 2):\n",
    "                child1 = nodes[i]\n",
    "                if i+1 < len(nodes):\n",
    "                    child2 = nodes[i+1]\n",
    "                else:\n",
    "                    parents.append(nodes[i])\n",
    "                    break\n",
    "\n",
    "                combined_hash = child1.hash_value + child2.hash_value\n",
    "                parent = MerkleTree(combined_hash)\n",
    "                parent.left = child1\n",
    "                parent.right = child2\n",
    "                parents.append(parent)\n",
    "            nodes = parents\n",
    "        return nodes[0]\n",
    "    else:\n",
    "        while len(nodes) != 1:\n",
    "            parents = []\n",
    "            for i in range(0, len(nodes), 2):\n",
    "                child1 = nodes[i]\n",
    "                if i+1 < len(nodes):\n",
    "                    child2 = nodes[i+1]\n",
    "                else:\n",
    "                    parents.append(nodes[i])\n",
    "                    break\n",
    "\n",
    "                combined_hash = child1.hash_value + child2.hash_value\n",
    "                parent = MerkleTree(combined_hash)\n",
    "                parent.left = child1\n",
    "                parent.right = child2\n",
    "                parents.append(parent)\n",
    "\n",
    "                G.add_node(child1.hash_value)\n",
    "                G.add_node(child2.hash_value)\n",
    "                G.add_node(parent.hash_value)\n",
    "                G.add_edge(parent.hash_value, child1.hash_value)\n",
    "                G.add_edge(parent.hash_value, child2.hash_value)\n",
    "            nodes = parents\n",
    "        return nodes[0]"
   ]
  },
  {
   "cell_type": "markdown",
   "id": "433ad552",
   "metadata": {},
   "source": [
    "### Post Order"
   ]
  },
  {
   "cell_type": "code",
   "execution_count": 14,
   "id": "58ef4cdb-da1d-490c-b50d-30085c86a9f8",
   "metadata": {},
   "outputs": [
    {
     "name": "stdout",
     "output_type": "stream",
     "text": [
      "KDDG DCZO PWLG IQXB HPRX WZWV DBJP VGAZ DVUO YPWD YCSK "
     ]
    }
   ],
   "source": [
    "tree = build_tree('l')\n",
    "tree.print_tree()"
   ]
  },
  {
   "cell_type": "markdown",
   "id": "60bb3c7c",
   "metadata": {},
   "source": [
    "### Fancy Output"
   ]
  },
  {
   "cell_type": "code",
   "execution_count": 15,
   "id": "8e482457",
   "metadata": {},
   "outputs": [],
   "source": [
    "def add_file_nodes(G):\n",
    "\tcount = 1\n",
    "\tfor i in range(0, FILE_COUNT+1, 3):\n",
    "\t\tG.add_edge(list(G.nodes)[i], 'file{i}'.format(i=count))\n",
    "\t\tcount += 1\n",
    "\t\tG.add_edge(list(G.nodes)[i+1], 'file{i}'.format(i=count))\n",
    "\t\tcount += 1"
   ]
  },
  {
   "cell_type": "code",
   "execution_count": 16,
   "id": "c89189db",
   "metadata": {},
   "outputs": [
    {
     "name": "stdout",
     "output_type": "stream",
     "text": [
      "file1.txt\n",
      "file2.txt\n",
      "file3.txt\n",
      "file4.txt\n",
      "file5.txt\n",
      "file6.txt\n"
     ]
    }
   ],
   "source": [
    "plt.subplots(figsize=(15, 5))\n",
    "\n",
    "G = nx.DiGraph()\n",
    "build_tree('l', G)\n",
    "add_file_nodes(G)\n",
    "# fig = plt.figure()\n",
    "plt.subplot(1, 2, 1)\n",
    "pos = nx.nx_pydot.graphviz_layout(G, prog=\"dot\")\n",
    "nx.draw(G, pos, with_labels=True, node_size=1500, arrows=True, arrowsize=22)\n",
    "\n",
    "Gs = nx.DiGraph()\n",
    "build_tree('s', Gs)\n",
    "add_file_nodes(Gs)\n",
    "# fig = plt.figure(2)\n",
    "plt.subplot(1, 2, 2)\n",
    "pos = nx.nx_pydot.graphviz_layout(Gs, prog=\"dot\")\n",
    "nx.draw(Gs, pos, with_labels=True, node_size=1500, arrows=True, arrowsize=22)\n",
    "\n",
    "plt.tight_layout()"
   ]
  },
  {
   "cell_type": "code",
   "execution_count": null,
   "id": "b7ae532d",
   "metadata": {},
   "outputs": [],
   "source": [
    "Gs = nx.DiGraph()\n",
    "build_tree('s', Gs)\n",
    "add_file_nodes(Gs)\n",
    "fig = plt.figure(2)\n",
    "pos = nx.nx_pydot.graphviz_layout(Gs, prog=\"dot\")\n",
    "nx.draw(Gs, pos, with_labels=True, node_size=1500, arrows=True, arrowsize=22)"
   ]
  }
 ],
 "metadata": {
  "kernelspec": {
   "display_name": "Python 3",
   "language": "python",
   "name": "python3"
  },
  "language_info": {
   "codemirror_mode": {
    "name": "ipython",
    "version": 3
   },
   "file_extension": ".py",
   "mimetype": "text/x-python",
   "name": "python",
   "nbconvert_exporter": "python",
   "pygments_lexer": "ipython3",
   "version": "3.9.9"
  }
 },
 "nbformat": 4,
 "nbformat_minor": 5
}
