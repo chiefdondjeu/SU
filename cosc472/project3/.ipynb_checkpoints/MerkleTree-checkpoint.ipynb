{
 "cells": [
  {
   "cell_type": "code",
   "execution_count": 1,
   "id": "0eb45a3d-5f40-48a8-b689-fd187e7562ad",
   "metadata": {},
   "outputs": [],
   "source": [
    "import glob"
   ]
  },
  {
   "cell_type": "code",
   "execution_count": 2,
   "id": "84e32ac8-9625-4dba-9879-17f5f60ba5e6",
   "metadata": {},
   "outputs": [],
   "source": [
    "class MerkleTree:\n",
    "    def __init__(self, value):\n",
    "        self.left = None\n",
    "        self.right = None\n",
    "        self.value = value\n",
    "        self.hash_value = TTH(value)\n",
    "        # self.hash_value = hashlib.sha256(root.encode('utf-8')).hexdigest()\n",
    "\n",
    "    def print_tree(self):\n",
    "        if self.left:\n",
    "            self.left.print_tree()\n",
    "        if self.right:\n",
    "            self.right.print_tree()\n",
    "        print(f\"{self.hash_value}\")"
   ]
  },
  {
   "cell_type": "code",
   "execution_count": 4,
   "id": "b5ad074b-2d81-4c9b-8274-d34893156f80",
   "metadata": {},
   "outputs": [],
   "source": [
    "# returns the position of an alphabetic char in sequence 0 ~ 25\n",
    "def indexOf(ch):\n",
    "    if ch == '0':  # this part only used by TTH\n",
    "        return 0\n",
    "    return ord(ch)-ord('a')\n",
    "\n",
    "def compression(block, total):\n",
    "    current_total = total\n",
    "\n",
    "    # ROUND 1\n",
    "    for i in range(4):\n",
    "        sum = 0\n",
    "        for j in range(i, 16, 4):\n",
    "            sum += indexOf(block[j])\n",
    "        current_total[i] += sum\n",
    "        current_total[i] %= 26\n",
    "\n",
    "    # ROUND 2\n",
    "    matrix = block[1:4] + list(block[0]) + block[6:8] + block[4:6] + list(block[-5]) \\\n",
    "        + block[8:11] + list(reversed(block[12:16]))\n",
    "\n",
    "    for i in range(4):\n",
    "        sum = 0\n",
    "        for j in range(i, 16, 4):\n",
    "            sum += indexOf(matrix[j])\n",
    "        current_total[i] += sum\n",
    "        current_total[i] %= 26\n",
    "\n",
    "    return current_total\n",
    "\n",
    "def TTH(msg):\n",
    "    # remove non-alphas\n",
    "    alpha_msg = \"\"\n",
    "    for ch in msg:\n",
    "        if ch.isalpha():\n",
    "            alpha_msg += ch.lower()\n",
    "\n",
    "    # divide message into blocks of 16\n",
    "    blocks = [alpha_msg[i:i+16] for i in range(0, len(alpha_msg), 16)]\n",
    "\n",
    "    # pad with zeros\n",
    "    if len(blocks[-1]) < 16:\n",
    "        blocks[-1] = blocks[-1] + \"0\" * (16 - len(blocks[-1]))\n",
    "\n",
    "    total = [0, 0, 0, 0]\n",
    "    for b in blocks:\n",
    "        total = compression(list(b), total)\n",
    "\n",
    "    hash = \"\"\n",
    "    for el in total:\n",
    "        hash += chr(el+ord('A'))\n",
    "\n",
    "    return hash"
   ]
  },
  {
   "cell_type": "code",
   "execution_count": 5,
   "id": "2bc5e1bf-63d4-4cba-8e33-d9146b2985f4",
   "metadata": {},
   "outputs": [],
   "source": [
    "# location: local or server\n",
    "def build_tree(location):\n",
    "    nodes, files = [], []\n",
    "    if location == 'l':\n",
    "        files = sorted(glob.glob('tests/local/*.txt'))\n",
    "    else:\n",
    "        files = sorted(glob.glob('tests/server/*.txt'))\n",
    "\n",
    "    for file in files:\n",
    "        with open(file) as f:\n",
    "            fc = f.readlines()\n",
    "        nodes.append(MerkleTree(\"\".join(fc)))\n",
    "\n",
    "    # build actual tree\n",
    "    while len(nodes) != 1:\n",
    "        parents = []\n",
    "        for i in range(0, len(nodes), 2):\n",
    "            child1 = nodes[i]\n",
    "            if i+1 < len(nodes):\n",
    "                child2 = nodes[i+1]\n",
    "            else:\n",
    "                parents.append(nodes[i])\n",
    "                break\n",
    "\n",
    "            combined_hash = child1.hash_value + child2.hash_value\n",
    "            parent = MerkleTree(combined_hash)\n",
    "            parent.left = child1\n",
    "            parent.right = child2\n",
    "            parents.append(parent)\n",
    "        nodes = parents\n",
    "    return nodes[0]"
   ]
  },
  {
   "cell_type": "code",
   "execution_count": 6,
   "id": "58ef4cdb-da1d-490c-b50d-30085c86a9f8",
   "metadata": {},
   "outputs": [
    {
     "name": "stdout",
     "output_type": "stream",
     "text": [
      "KDDG\n",
      "DCZO\n",
      "PWLG\n"
     ]
    }
   ],
   "source": [
    "tree = build_tree('local')\n",
    "tree.print_tree()"
   ]
  },
  {
   "cell_type": "code",
   "execution_count": null,
   "id": "36fead45-d5e5-42e3-8e78-6be3f121b4d1",
   "metadata": {},
   "outputs": [],
   "source": []
  }
 ],
 "metadata": {
  "kernelspec": {
   "display_name": "Python 3",
   "language": "python",
   "name": "python3"
  },
  "language_info": {
   "codemirror_mode": {
    "name": "ipython",
    "version": 3
   },
   "file_extension": ".py",
   "mimetype": "text/x-python",
   "name": "python",
   "nbconvert_exporter": "python",
   "pygments_lexer": "ipython3",
   "version": "3.9.9"
  }
 },
 "nbformat": 4,
 "nbformat_minor": 5
}
